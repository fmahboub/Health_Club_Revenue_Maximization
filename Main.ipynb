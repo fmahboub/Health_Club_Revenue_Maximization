{
  "nbformat": 4,
  "nbformat_minor": 0,
  "metadata": {
    "kernelspec": {
      "name": "python3",
      "display_name": "Python 3"
    },
    "language_info": {
      "codemirror_mode": {
        "name": "ipython",
        "version": 3
      },
      "file_extension": ".py",
      "mimetype": "text/x-python",
      "name": "python",
      "nbconvert_exporter": "python",
      "pygments_lexer": "ipython3",
      "version": "3.6.8"
    },
    "colab": {
      "name": "Individual Assignment 4.ipynb",
      "provenance": [],
      "collapsed_sections": [],
      "include_colab_link": true
    },
    "accelerator": "GPU"
  },
  "cells": [
    {
      "cell_type": "markdown",
      "metadata": {
        "id": "view-in-github",
        "colab_type": "text"
      },
      "source": [
        "<a href=\"https://colab.research.google.com/github/fmahboub/Health_Club_Revenue_Maximization/blob/master/Main.ipynb\" target=\"_parent\"><img src=\"https://colab.research.google.com/assets/colab-badge.svg\" alt=\"Open In Colab\"/></a>"
      ]
    },
    {
      "cell_type": "code",
      "metadata": {
        "id": "YLkF9EdbYaWa",
        "colab_type": "code",
        "colab": {}
      },
      "source": [
        "import numpy\n",
        "import pandas as pd\n",
        "from sklearn import preprocessing\n",
        "import sklearn\n",
        "import numpy as np\n",
        "from google.colab import files"
      ],
      "execution_count": 0,
      "outputs": []
    },
    {
      "cell_type": "code",
      "metadata": {
        "id": "wgwjzMmtYiqe",
        "colab_type": "code",
        "outputId": "cc46fcc5-6636-4e22-848f-a16683e82226",
        "colab": {
          "base_uri": "https://localhost:8080/",
          "height": 122
        }
      },
      "source": [
        "from google.colab import drive\n",
        "drive.mount('/content/drive')"
      ],
      "execution_count": 0,
      "outputs": [
        {
          "output_type": "stream",
          "text": [
            "Go to this URL in a browser: https://accounts.google.com/o/oauth2/auth?client_id=947318989803-6bn6qk8qdgf4n4g3pfee6491hc0brc4i.apps.googleusercontent.com&redirect_uri=urn%3aietf%3awg%3aoauth%3a2.0%3aoob&response_type=code&scope=email%20https%3a%2f%2fwww.googleapis.com%2fauth%2fdocs.test%20https%3a%2f%2fwww.googleapis.com%2fauth%2fdrive%20https%3a%2f%2fwww.googleapis.com%2fauth%2fdrive.photos.readonly%20https%3a%2f%2fwww.googleapis.com%2fauth%2fpeopleapi.readonly\n",
            "\n",
            "Enter your authorization code:\n",
            "··········\n",
            "Mounted at /content/drive\n"
          ],
          "name": "stdout"
        }
      ]
    },
    {
      "cell_type": "code",
      "metadata": {
        "id": "9Qk8aNIYYaXA",
        "colab_type": "code",
        "colab": {}
      },
      "source": [
        "# load survey dataset\n",
        "file1 = pd.read_excel('drive/My Drive/MMA/RSM 8423 Optimizing Supply Chain Management'+\n",
        "                     ' and Logistics/Individual Assignment 4: New York Health Club/RawData.xlsx')\n",
        "\n",
        "# Set price ranges for regression\n",
        "p0 = list(range(0,151))\n",
        "p59 = list(range(0,151))\n",
        "# Empty dataframe to fill\n",
        "train = pd.DataFrame(columns = ['P0','P59','5-9','Not5-9','Neither','Total'])\n",
        "\n",
        "for price0 in p0:\n",
        "  for price59 in p59:\n",
        "    print ('Price0:',price0)\n",
        "    print ('Price5-9',price59)\n",
        "    # ________Demand Calculation________\n",
        "    # Create Max Wtp not 5-9\n",
        "    data = file1.copy()\n",
        "    data['Max wtp not5-9'] = data.drop(columns=['5pm_9pm','Client','Type']).max(axis=1)\n",
        "    # Prices which are updated on each loop iteration\n",
        "    data['P0'] = price0\n",
        "    data['P59'] = price59\n",
        "    # Create Max(netUtil N59,0)\n",
        "    data['NetUtil Not59'] = data['Max wtp not5-9'] - data['P0']\n",
        "    data['Max(netUtil N59,0)'] = data['Max wtp not5-9'] - data['P0']\n",
        "    data.loc[data['Max(netUtil N59,0)'] < 0, 'Max(netUtil N59,0)'] = 0\n",
        "    # Create Choice Column (Assumption to choose 5-9 if utilities are tied, & choose to buy if utility is 0)\n",
        "    data.loc[(data['5pm_9pm'] - data['P59']) >= data['Max(netUtil N59,0)'], 'Choice'] = '5-9'\n",
        "    data.loc[((data['5pm_9pm'] - data['P59']) < data['Max(netUtil N59,0)']) &\n",
        "             (data['NetUtil Not59'] >= 0), 'Choice'] = 'Not5-9'\n",
        "    data.loc[data['Choice'].isna() == True, 'Choice'] = 'Neither'\n",
        "    # Count choice types\n",
        "    temp = data['Choice'].value_counts().to_frame().transpose().reset_index(drop=True)\n",
        "    temp[['P0','P59']] = data[['P0','P59']]\n",
        "    if 'Neither' not in temp.columns:\n",
        "      temp['Neither'] = 0\n",
        "    if '5-9' not in temp.columns:\n",
        "      temp['5-9'] = 0\n",
        "    if 'Not5-9' not in temp.columns:\n",
        "      temp['Not5-9'] = 0\n",
        "    temp = temp[['P0','P59','5-9','Not5-9','Neither']]\n",
        "    temp['Total'] = temp['5-9']+temp['Not5-9']+temp['Neither']\n",
        "    train = train.append(temp)"
      ],
      "execution_count": 0,
      "outputs": []
    },
    {
      "cell_type": "code",
      "metadata": {
        "id": "sMTahyRgjWYc",
        "colab_type": "code",
        "outputId": "b07dd917-8870-4c0c-9870-911b05b5ad9d",
        "colab": {
          "base_uri": "https://localhost:8080/",
          "height": 419
        }
      },
      "source": [
        "train = train.rename(columns={'5-9':'D59', 'Not5-9':'D0'})\n",
        "train"
      ],
      "execution_count": 0,
      "outputs": [
        {
          "output_type": "execute_result",
          "data": {
            "text/html": [
              "<div>\n",
              "<style scoped>\n",
              "    .dataframe tbody tr th:only-of-type {\n",
              "        vertical-align: middle;\n",
              "    }\n",
              "\n",
              "    .dataframe tbody tr th {\n",
              "        vertical-align: top;\n",
              "    }\n",
              "\n",
              "    .dataframe thead th {\n",
              "        text-align: right;\n",
              "    }\n",
              "</style>\n",
              "<table border=\"1\" class=\"dataframe\">\n",
              "  <thead>\n",
              "    <tr style=\"text-align: right;\">\n",
              "      <th></th>\n",
              "      <th>Unnamed: 0</th>\n",
              "      <th>P0</th>\n",
              "      <th>P59</th>\n",
              "      <th>D59</th>\n",
              "      <th>D0</th>\n",
              "      <th>Neither</th>\n",
              "      <th>Total</th>\n",
              "    </tr>\n",
              "  </thead>\n",
              "  <tbody>\n",
              "    <tr>\n",
              "      <th>0</th>\n",
              "      <td>0</td>\n",
              "      <td>0</td>\n",
              "      <td>0</td>\n",
              "      <td>227</td>\n",
              "      <td>773</td>\n",
              "      <td>0</td>\n",
              "      <td>1000</td>\n",
              "    </tr>\n",
              "    <tr>\n",
              "      <th>1</th>\n",
              "      <td>0</td>\n",
              "      <td>0</td>\n",
              "      <td>1</td>\n",
              "      <td>217</td>\n",
              "      <td>783</td>\n",
              "      <td>0</td>\n",
              "      <td>1000</td>\n",
              "    </tr>\n",
              "    <tr>\n",
              "      <th>2</th>\n",
              "      <td>0</td>\n",
              "      <td>0</td>\n",
              "      <td>2</td>\n",
              "      <td>210</td>\n",
              "      <td>790</td>\n",
              "      <td>0</td>\n",
              "      <td>1000</td>\n",
              "    </tr>\n",
              "    <tr>\n",
              "      <th>3</th>\n",
              "      <td>0</td>\n",
              "      <td>0</td>\n",
              "      <td>3</td>\n",
              "      <td>206</td>\n",
              "      <td>794</td>\n",
              "      <td>0</td>\n",
              "      <td>1000</td>\n",
              "    </tr>\n",
              "    <tr>\n",
              "      <th>4</th>\n",
              "      <td>0</td>\n",
              "      <td>0</td>\n",
              "      <td>4</td>\n",
              "      <td>201</td>\n",
              "      <td>799</td>\n",
              "      <td>0</td>\n",
              "      <td>1000</td>\n",
              "    </tr>\n",
              "    <tr>\n",
              "      <th>...</th>\n",
              "      <td>...</td>\n",
              "      <td>...</td>\n",
              "      <td>...</td>\n",
              "      <td>...</td>\n",
              "      <td>...</td>\n",
              "      <td>...</td>\n",
              "      <td>...</td>\n",
              "    </tr>\n",
              "    <tr>\n",
              "      <th>22796</th>\n",
              "      <td>0</td>\n",
              "      <td>150</td>\n",
              "      <td>146</td>\n",
              "      <td>23</td>\n",
              "      <td>51</td>\n",
              "      <td>926</td>\n",
              "      <td>1000</td>\n",
              "    </tr>\n",
              "    <tr>\n",
              "      <th>22797</th>\n",
              "      <td>0</td>\n",
              "      <td>150</td>\n",
              "      <td>147</td>\n",
              "      <td>21</td>\n",
              "      <td>51</td>\n",
              "      <td>928</td>\n",
              "      <td>1000</td>\n",
              "    </tr>\n",
              "    <tr>\n",
              "      <th>22798</th>\n",
              "      <td>0</td>\n",
              "      <td>150</td>\n",
              "      <td>148</td>\n",
              "      <td>21</td>\n",
              "      <td>51</td>\n",
              "      <td>928</td>\n",
              "      <td>1000</td>\n",
              "    </tr>\n",
              "    <tr>\n",
              "      <th>22799</th>\n",
              "      <td>0</td>\n",
              "      <td>150</td>\n",
              "      <td>149</td>\n",
              "      <td>19</td>\n",
              "      <td>51</td>\n",
              "      <td>930</td>\n",
              "      <td>1000</td>\n",
              "    </tr>\n",
              "    <tr>\n",
              "      <th>22800</th>\n",
              "      <td>0</td>\n",
              "      <td>150</td>\n",
              "      <td>150</td>\n",
              "      <td>18</td>\n",
              "      <td>51</td>\n",
              "      <td>931</td>\n",
              "      <td>1000</td>\n",
              "    </tr>\n",
              "  </tbody>\n",
              "</table>\n",
              "<p>22801 rows × 7 columns</p>\n",
              "</div>"
            ],
            "text/plain": [
              "       Unnamed: 0   P0  P59  D59   D0  Neither  Total\n",
              "0               0    0    0  227  773        0   1000\n",
              "1               0    0    1  217  783        0   1000\n",
              "2               0    0    2  210  790        0   1000\n",
              "3               0    0    3  206  794        0   1000\n",
              "4               0    0    4  201  799        0   1000\n",
              "...           ...  ...  ...  ...  ...      ...    ...\n",
              "22796           0  150  146   23   51      926   1000\n",
              "22797           0  150  147   21   51      928   1000\n",
              "22798           0  150  148   21   51      928   1000\n",
              "22799           0  150  149   19   51      930   1000\n",
              "22800           0  150  150   18   51      931   1000\n",
              "\n",
              "[22801 rows x 7 columns]"
            ]
          },
          "metadata": {
            "tags": []
          },
          "execution_count": 4
        }
      ]
    },
    {
      "cell_type": "code",
      "metadata": {
        "id": "qEUJuEdIqXIv",
        "colab_type": "code",
        "colab": {}
      },
      "source": [
        "train.to_excel('train.xlsx')\n",
        "files.download('train.xlsx')"
      ],
      "execution_count": 0,
      "outputs": []
    },
    {
      "cell_type": "code",
      "metadata": {
        "id": "RgSqym4hsXgZ",
        "colab_type": "code",
        "colab": {}
      },
      "source": [
        "import matplotlib.pyplot as plt\n",
        "from mpl_toolkits.mplot3d import Axes3D\n",
        "import statsmodels.api as sm\n",
        "from sklearn import linear_model\n",
        "import seaborn as seabornInstance \n",
        "from sklearn.model_selection import train_test_split \n",
        "from sklearn.linear_model import LinearRegression\n",
        "from sklearn import metrics\n",
        "%matplotlib inline"
      ],
      "execution_count": 0,
      "outputs": []
    },
    {
      "cell_type": "code",
      "metadata": {
        "id": "XWHSC4fFs5xl",
        "colab_type": "code",
        "outputId": "88812e6f-aa49-41be-b37b-54a6424de7d9",
        "colab": {
          "base_uri": "https://localhost:8080/",
          "height": 519
        }
      },
      "source": [
        "x = train[['P0','P59']]\n",
        "x = sm.add_constant(x)\n",
        "y = train[['D59']]\n",
        "model1 = sm.OLS(y.astype(float), x.astype(float)).fit()\n",
        "model1.summary()"
      ],
      "execution_count": 0,
      "outputs": [
        {
          "output_type": "stream",
          "text": [
            "/usr/local/lib/python3.6/dist-packages/numpy/core/fromnumeric.py:2495: FutureWarning: Method .ptp is deprecated and will be removed in a future version. Use numpy.ptp instead.\n",
            "  return ptp(axis=axis, out=out, **kwargs)\n"
          ],
          "name": "stderr"
        },
        {
          "output_type": "execute_result",
          "data": {
            "text/html": [
              "<table class=\"simpletable\">\n",
              "<caption>OLS Regression Results</caption>\n",
              "<tr>\n",
              "  <th>Dep. Variable:</th>           <td>D59</td>       <th>  R-squared:         </th>  <td>   0.847</td>  \n",
              "</tr>\n",
              "<tr>\n",
              "  <th>Model:</th>                   <td>OLS</td>       <th>  Adj. R-squared:    </th>  <td>   0.847</td>  \n",
              "</tr>\n",
              "<tr>\n",
              "  <th>Method:</th>             <td>Least Squares</td>  <th>  F-statistic:       </th>  <td>6.325e+04</td> \n",
              "</tr>\n",
              "<tr>\n",
              "  <th>Date:</th>             <td>Mon, 09 Mar 2020</td> <th>  Prob (F-statistic):</th>   <td>  0.00</td>   \n",
              "</tr>\n",
              "<tr>\n",
              "  <th>Time:</th>                 <td>22:06:06</td>     <th>  Log-Likelihood:    </th> <td>-1.3929e+05</td>\n",
              "</tr>\n",
              "<tr>\n",
              "  <th>No. Observations:</th>      <td> 22801</td>      <th>  AIC:               </th>  <td>2.786e+05</td> \n",
              "</tr>\n",
              "<tr>\n",
              "  <th>Df Residuals:</th>          <td> 22798</td>      <th>  BIC:               </th>  <td>2.786e+05</td> \n",
              "</tr>\n",
              "<tr>\n",
              "  <th>Df Model:</th>              <td>     2</td>      <th>                     </th>      <td> </td>     \n",
              "</tr>\n",
              "<tr>\n",
              "  <th>Covariance Type:</th>      <td>nonrobust</td>    <th>                     </th>      <td> </td>     \n",
              "</tr>\n",
              "</table>\n",
              "<table class=\"simpletable\">\n",
              "<tr>\n",
              "    <td></td>       <th>coef</th>     <th>std err</th>      <th>t</th>      <th>P>|t|</th>  <th>[0.025</th>    <th>0.975]</th>  \n",
              "</tr>\n",
              "<tr>\n",
              "  <th>const</th> <td>  413.7949</td> <td>    1.896</td> <td>  218.195</td> <td> 0.000</td> <td>  410.078</td> <td>  417.512</td>\n",
              "</tr>\n",
              "<tr>\n",
              "  <th>P0</th>    <td>    3.0000</td> <td>    0.017</td> <td>  181.405</td> <td> 0.000</td> <td>    2.968</td> <td>    3.032</td>\n",
              "</tr>\n",
              "<tr>\n",
              "  <th>P59</th>   <td>   -5.0593</td> <td>    0.017</td> <td> -305.925</td> <td> 0.000</td> <td>   -5.092</td> <td>   -5.027</td>\n",
              "</tr>\n",
              "</table>\n",
              "<table class=\"simpletable\">\n",
              "<tr>\n",
              "  <th>Omnibus:</th>       <td>1519.088</td> <th>  Durbin-Watson:     </th> <td>   0.036</td>\n",
              "</tr>\n",
              "<tr>\n",
              "  <th>Prob(Omnibus):</th>  <td> 0.000</td>  <th>  Jarque-Bera (JB):  </th> <td>1765.528</td>\n",
              "</tr>\n",
              "<tr>\n",
              "  <th>Skew:</th>           <td> 0.665</td>  <th>  Prob(JB):          </th> <td>    0.00</td>\n",
              "</tr>\n",
              "<tr>\n",
              "  <th>Kurtosis:</th>       <td> 2.705</td>  <th>  Cond. No.          </th> <td>    302.</td>\n",
              "</tr>\n",
              "</table><br/><br/>Warnings:<br/>[1] Standard Errors assume that the covariance matrix of the errors is correctly specified."
            ],
            "text/plain": [
              "<class 'statsmodels.iolib.summary.Summary'>\n",
              "\"\"\"\n",
              "                            OLS Regression Results                            \n",
              "==============================================================================\n",
              "Dep. Variable:                    D59   R-squared:                       0.847\n",
              "Model:                            OLS   Adj. R-squared:                  0.847\n",
              "Method:                 Least Squares   F-statistic:                 6.325e+04\n",
              "Date:                Mon, 09 Mar 2020   Prob (F-statistic):               0.00\n",
              "Time:                        22:06:06   Log-Likelihood:            -1.3929e+05\n",
              "No. Observations:               22801   AIC:                         2.786e+05\n",
              "Df Residuals:                   22798   BIC:                         2.786e+05\n",
              "Df Model:                           2                                         \n",
              "Covariance Type:            nonrobust                                         \n",
              "==============================================================================\n",
              "                 coef    std err          t      P>|t|      [0.025      0.975]\n",
              "------------------------------------------------------------------------------\n",
              "const        413.7949      1.896    218.195      0.000     410.078     417.512\n",
              "P0             3.0000      0.017    181.405      0.000       2.968       3.032\n",
              "P59           -5.0593      0.017   -305.925      0.000      -5.092      -5.027\n",
              "==============================================================================\n",
              "Omnibus:                     1519.088   Durbin-Watson:                   0.036\n",
              "Prob(Omnibus):                  0.000   Jarque-Bera (JB):             1765.528\n",
              "Skew:                           0.665   Prob(JB):                         0.00\n",
              "Kurtosis:                       2.705   Cond. No.                         302.\n",
              "==============================================================================\n",
              "\n",
              "Warnings:\n",
              "[1] Standard Errors assume that the covariance matrix of the errors is correctly specified.\n",
              "\"\"\""
            ]
          },
          "metadata": {
            "tags": []
          },
          "execution_count": 21
        }
      ]
    },
    {
      "cell_type": "code",
      "metadata": {
        "id": "DqswvJUoMNpj",
        "colab_type": "code",
        "outputId": "4b2777dd-3c43-4953-ae4b-46cd8e2d5f2b",
        "colab": {
          "base_uri": "https://localhost:8080/",
          "height": 248
        }
      },
      "source": [
        "X = train[['P0','P59']].iloc[9000:12000,:]\n",
        "z = y.iloc[9000:12000,:]\n",
        "threedee = plt.figure().gca(projection='3d')\n",
        "threedee.scatter(X['P0'], X['P59'], z)\n",
        "threedee.set_xlabel('P0')\n",
        "threedee.set_ylabel('P59')\n",
        "threedee.set_zlabel('D59')\n",
        "plt.show()"
      ],
      "execution_count": 0,
      "outputs": [
        {
          "output_type": "display_data",
          "data": {
            "image/png": "[encoded data removed]",
            "text/plain": [
              "<Figure size 432x288 with 1 Axes>"
            ]
          },
          "metadata": {
            "tags": []
          }
        }
      ]
    },
    {
      "cell_type": "code",
      "metadata": {
        "id": "Tf6QPSeBOtei",
        "colab_type": "code",
        "outputId": "ada81a2d-6cb2-49be-82c0-5233cb16b9d1",
        "colab": {
          "base_uri": "https://localhost:8080/",
          "height": 282
        }
      },
      "source": [
        "plt.scatter(train['P59'],train['D59'])"
      ],
      "execution_count": 0,
      "outputs": [
        {
          "output_type": "execute_result",
          "data": {
            "text/plain": [
              "<matplotlib.collections.PathCollection at 0x7f21c0cdad30>"
            ]
          },
          "metadata": {
            "tags": []
          },
          "execution_count": 9
        },
        {
          "output_type": "display_data",
          "data": {
            "image/png": "[encoded data removed]",
            "text/plain": [
              "<Figure size 432x288 with 1 Axes>"
            ]
          },
          "metadata": {
            "tags": []
          }
        }
      ]
    },
    {
      "cell_type": "code",
      "metadata": {
        "id": "sUB18qgBt7MC",
        "colab_type": "code",
        "outputId": "3e0fcef6-f9aa-4bd6-db06-6bef640682d3",
        "colab": {
          "base_uri": "https://localhost:8080/",
          "height": 519
        }
      },
      "source": [
        "x = train[['P0','P59']]\n",
        "x = sm.add_constant(x)\n",
        "y = train[['D0']]\n",
        "model2 = sm.OLS(y.astype(float), x.astype(float)).fit()\n",
        "model2.summary()"
      ],
      "execution_count": 0,
      "outputs": [
        {
          "output_type": "stream",
          "text": [
            "/usr/local/lib/python3.6/dist-packages/numpy/core/fromnumeric.py:2495: FutureWarning: Method .ptp is deprecated and will be removed in a future version. Use numpy.ptp instead.\n",
            "  return ptp(axis=axis, out=out, **kwargs)\n"
          ],
          "name": "stderr"
        },
        {
          "output_type": "execute_result",
          "data": {
            "text/html": [
              "<table class=\"simpletable\">\n",
              "<caption>OLS Regression Results</caption>\n",
              "<tr>\n",
              "  <th>Dep. Variable:</th>           <td>D0</td>        <th>  R-squared:         </th>  <td>   0.933</td>  \n",
              "</tr>\n",
              "<tr>\n",
              "  <th>Model:</th>                   <td>OLS</td>       <th>  Adj. R-squared:    </th>  <td>   0.933</td>  \n",
              "</tr>\n",
              "<tr>\n",
              "  <th>Method:</th>             <td>Least Squares</td>  <th>  F-statistic:       </th>  <td>1.579e+05</td> \n",
              "</tr>\n",
              "<tr>\n",
              "  <th>Date:</th>             <td>Mon, 09 Mar 2020</td> <th>  Prob (F-statistic):</th>   <td>  0.00</td>   \n",
              "</tr>\n",
              "<tr>\n",
              "  <th>Time:</th>                 <td>22:06:23</td>     <th>  Log-Likelihood:    </th> <td>-1.3606e+05</td>\n",
              "</tr>\n",
              "<tr>\n",
              "  <th>No. Observations:</th>      <td> 22801</td>      <th>  AIC:               </th>  <td>2.721e+05</td> \n",
              "</tr>\n",
              "<tr>\n",
              "  <th>Df Residuals:</th>          <td> 22798</td>      <th>  BIC:               </th>  <td>2.721e+05</td> \n",
              "</tr>\n",
              "<tr>\n",
              "  <th>Df Model:</th>              <td>     2</td>      <th>                     </th>      <td> </td>     \n",
              "</tr>\n",
              "<tr>\n",
              "  <th>Covariance Type:</th>      <td>nonrobust</td>    <th>                     </th>      <td> </td>     \n",
              "</tr>\n",
              "</table>\n",
              "<table class=\"simpletable\">\n",
              "<tr>\n",
              "    <td></td>       <th>coef</th>     <th>std err</th>      <th>t</th>      <th>P>|t|</th>  <th>[0.025</th>    <th>0.975]</th>  \n",
              "</tr>\n",
              "<tr>\n",
              "  <th>const</th> <td>  914.7323</td> <td>    1.646</td> <td>  555.715</td> <td> 0.000</td> <td>  911.506</td> <td>  917.959</td>\n",
              "</tr>\n",
              "<tr>\n",
              "  <th>P0</th>    <td>   -7.6602</td> <td>    0.014</td> <td> -533.652</td> <td> 0.000</td> <td>   -7.688</td> <td>   -7.632</td>\n",
              "</tr>\n",
              "<tr>\n",
              "  <th>P59</th>   <td>    2.5241</td> <td>    0.014</td> <td>  175.847</td> <td> 0.000</td> <td>    2.496</td> <td>    2.552</td>\n",
              "</tr>\n",
              "</table>\n",
              "<table class=\"simpletable\">\n",
              "<tr>\n",
              "  <th>Omnibus:</th>       <td>755.325</td> <th>  Durbin-Watson:     </th> <td>   0.028</td>\n",
              "</tr>\n",
              "<tr>\n",
              "  <th>Prob(Omnibus):</th> <td> 0.000</td>  <th>  Jarque-Bera (JB):  </th> <td> 403.525</td>\n",
              "</tr>\n",
              "<tr>\n",
              "  <th>Skew:</th>          <td> 0.146</td>  <th>  Prob(JB):          </th> <td>2.38e-88</td>\n",
              "</tr>\n",
              "<tr>\n",
              "  <th>Kurtosis:</th>      <td> 2.418</td>  <th>  Cond. No.          </th> <td>    302.</td>\n",
              "</tr>\n",
              "</table><br/><br/>Warnings:<br/>[1] Standard Errors assume that the covariance matrix of the errors is correctly specified."
            ],
            "text/plain": [
              "<class 'statsmodels.iolib.summary.Summary'>\n",
              "\"\"\"\n",
              "                            OLS Regression Results                            \n",
              "==============================================================================\n",
              "Dep. Variable:                     D0   R-squared:                       0.933\n",
              "Model:                            OLS   Adj. R-squared:                  0.933\n",
              "Method:                 Least Squares   F-statistic:                 1.579e+05\n",
              "Date:                Mon, 09 Mar 2020   Prob (F-statistic):               0.00\n",
              "Time:                        22:06:23   Log-Likelihood:            -1.3606e+05\n",
              "No. Observations:               22801   AIC:                         2.721e+05\n",
              "Df Residuals:                   22798   BIC:                         2.721e+05\n",
              "Df Model:                           2                                         \n",
              "Covariance Type:            nonrobust                                         \n",
              "==============================================================================\n",
              "                 coef    std err          t      P>|t|      [0.025      0.975]\n",
              "------------------------------------------------------------------------------\n",
              "const        914.7323      1.646    555.715      0.000     911.506     917.959\n",
              "P0            -7.6602      0.014   -533.652      0.000      -7.688      -7.632\n",
              "P59            2.5241      0.014    175.847      0.000       2.496       2.552\n",
              "==============================================================================\n",
              "Omnibus:                      755.325   Durbin-Watson:                   0.028\n",
              "Prob(Omnibus):                  0.000   Jarque-Bera (JB):              403.525\n",
              "Skew:                           0.146   Prob(JB):                     2.38e-88\n",
              "Kurtosis:                       2.418   Cond. No.                         302.\n",
              "==============================================================================\n",
              "\n",
              "Warnings:\n",
              "[1] Standard Errors assume that the covariance matrix of the errors is correctly specified.\n",
              "\"\"\""
            ]
          },
          "metadata": {
            "tags": []
          },
          "execution_count": 22
        }
      ]
    },
    {
      "cell_type": "code",
      "metadata": {
        "id": "5xzhe3dj8lIK",
        "colab_type": "code",
        "colab": {}
      },
      "source": [
        "# Load train from saved file\n",
        "file1 = pd.read_excel('drive/My Drive/MMA/RSM 8423 Optimizing Supply Chain Management'+\n",
        "                     ' and Logistics/Individual Assignment 4: New York Health Club/RawData.xlsx')\n",
        "train = pd.read_excel('drive/My Drive/MMA/RSM 8423 Optimizing Supply Chain Management'+\n",
        "                     ' and Logistics/Individual Assignment 4: New York Health Club/train.xlsx')"
      ],
      "execution_count": 0,
      "outputs": []
    },
    {
      "cell_type": "code",
      "metadata": {
        "id": "UyLj4CrGSRiL",
        "colab_type": "code",
        "outputId": "ae58ce31-5bb2-454b-c661-02adfd9606c1",
        "colab": {
          "base_uri": "https://localhost:8080/",
          "height": 419
        }
      },
      "source": [
        "# Correlation Coefficient\n",
        "p0 = list(range(0,151))\n",
        "p59 = list(range(0,151))\n",
        "table = pd.DataFrame(columns = ['P0','P59','5-9','Not5-9','Neither','Total'])\n",
        "for price0 in p0:\n",
        "  # ________Demand Calculation________\n",
        "  # Create Max Wtp not 5-9\n",
        "  data = file1.copy()\n",
        "  data['Max wtp not5-9'] = data.drop(columns=['5pm_9pm','Client','Type']).max(axis=1)\n",
        "  # Prices which are updated on each loop iteration\n",
        "  data['P0'] = price0\n",
        "  data['P59'] = 80\n",
        "  # Create Max(netUtil N59,0)\n",
        "  data['NetUtil Not59'] = data['Max wtp not5-9'] - data['P0']\n",
        "  data['Max(netUtil N59,0)'] = data['Max wtp not5-9'] - data['P0']\n",
        "  data.loc[data['Max(netUtil N59,0)'] < 0, 'Max(netUtil N59,0)'] = 0\n",
        "  # Create Choice Column (Assumption to choose 5-9 if utilities are tied, & choose to buy if utility is 0)\n",
        "  data.loc[(data['5pm_9pm'] - data['P59']) >= data['Max(netUtil N59,0)'], 'Choice'] = '5-9'\n",
        "  data.loc[((data['5pm_9pm'] - data['P59']) < data['Max(netUtil N59,0)']) &\n",
        "            (data['NetUtil Not59'] >= 0), 'Choice'] = 'Not5-9'\n",
        "  data.loc[data['Choice'].isna() == True, 'Choice'] = 'Neither'\n",
        "  # Count choice types\n",
        "  temp = data['Choice'].value_counts().to_frame().transpose().reset_index(drop=True)\n",
        "  temp[['P0','P59']] = data[['P0','P59']]\n",
        "  if 'Neither' not in temp.columns:\n",
        "    temp['Neither'] = 0\n",
        "  if '5-9' not in temp.columns:\n",
        "    temp['5-9'] = 0\n",
        "  if 'Not5-9' not in temp.columns:\n",
        "    temp['Not5-9'] = 0\n",
        "  temp = temp[['P0','P59','5-9','Not5-9','Neither']]\n",
        "  temp['Total'] = temp['5-9']+temp['Not5-9']+temp['Neither']\n",
        "  table = table.append(temp)\n",
        "table = table.rename(columns={'5-9':'D59', 'Not5-9':'D0'})\n",
        "table"
      ],
      "execution_count": 0,
      "outputs": [
        {
          "output_type": "execute_result",
          "data": {
            "text/html": [
              "<div>\n",
              "<style scoped>\n",
              "    .dataframe tbody tr th:only-of-type {\n",
              "        vertical-align: middle;\n",
              "    }\n",
              "\n",
              "    .dataframe tbody tr th {\n",
              "        vertical-align: top;\n",
              "    }\n",
              "\n",
              "    .dataframe thead th {\n",
              "        text-align: right;\n",
              "    }\n",
              "</style>\n",
              "<table border=\"1\" class=\"dataframe\">\n",
              "  <thead>\n",
              "    <tr style=\"text-align: right;\">\n",
              "      <th></th>\n",
              "      <th>P0</th>\n",
              "      <th>P59</th>\n",
              "      <th>D59</th>\n",
              "      <th>D0</th>\n",
              "      <th>Neither</th>\n",
              "      <th>Total</th>\n",
              "    </tr>\n",
              "  </thead>\n",
              "  <tbody>\n",
              "    <tr>\n",
              "      <th>0</th>\n",
              "      <td>0</td>\n",
              "      <td>80</td>\n",
              "      <td>0</td>\n",
              "      <td>1000</td>\n",
              "      <td>0</td>\n",
              "      <td>1000</td>\n",
              "    </tr>\n",
              "    <tr>\n",
              "      <th>0</th>\n",
              "      <td>1</td>\n",
              "      <td>80</td>\n",
              "      <td>0</td>\n",
              "      <td>1000</td>\n",
              "      <td>0</td>\n",
              "      <td>1000</td>\n",
              "    </tr>\n",
              "    <tr>\n",
              "      <th>0</th>\n",
              "      <td>2</td>\n",
              "      <td>80</td>\n",
              "      <td>2</td>\n",
              "      <td>998</td>\n",
              "      <td>0</td>\n",
              "      <td>1000</td>\n",
              "    </tr>\n",
              "    <tr>\n",
              "      <th>0</th>\n",
              "      <td>3</td>\n",
              "      <td>80</td>\n",
              "      <td>2</td>\n",
              "      <td>998</td>\n",
              "      <td>0</td>\n",
              "      <td>1000</td>\n",
              "    </tr>\n",
              "    <tr>\n",
              "      <th>0</th>\n",
              "      <td>4</td>\n",
              "      <td>80</td>\n",
              "      <td>4</td>\n",
              "      <td>996</td>\n",
              "      <td>0</td>\n",
              "      <td>1000</td>\n",
              "    </tr>\n",
              "    <tr>\n",
              "      <th>...</th>\n",
              "      <td>...</td>\n",
              "      <td>...</td>\n",
              "      <td>...</td>\n",
              "      <td>...</td>\n",
              "      <td>...</td>\n",
              "      <td>...</td>\n",
              "    </tr>\n",
              "    <tr>\n",
              "      <th>0</th>\n",
              "      <td>146</td>\n",
              "      <td>80</td>\n",
              "      <td>325</td>\n",
              "      <td>33</td>\n",
              "      <td>642</td>\n",
              "      <td>1000</td>\n",
              "    </tr>\n",
              "    <tr>\n",
              "      <th>0</th>\n",
              "      <td>147</td>\n",
              "      <td>80</td>\n",
              "      <td>326</td>\n",
              "      <td>32</td>\n",
              "      <td>642</td>\n",
              "      <td>1000</td>\n",
              "    </tr>\n",
              "    <tr>\n",
              "      <th>0</th>\n",
              "      <td>148</td>\n",
              "      <td>80</td>\n",
              "      <td>326</td>\n",
              "      <td>32</td>\n",
              "      <td>642</td>\n",
              "      <td>1000</td>\n",
              "    </tr>\n",
              "    <tr>\n",
              "      <th>0</th>\n",
              "      <td>149</td>\n",
              "      <td>80</td>\n",
              "      <td>327</td>\n",
              "      <td>31</td>\n",
              "      <td>642</td>\n",
              "      <td>1000</td>\n",
              "    </tr>\n",
              "    <tr>\n",
              "      <th>0</th>\n",
              "      <td>150</td>\n",
              "      <td>80</td>\n",
              "      <td>328</td>\n",
              "      <td>30</td>\n",
              "      <td>642</td>\n",
              "      <td>1000</td>\n",
              "    </tr>\n",
              "  </tbody>\n",
              "</table>\n",
              "<p>151 rows × 6 columns</p>\n",
              "</div>"
            ],
            "text/plain": [
              "     P0 P59  D59    D0 Neither Total\n",
              "0     0  80    0  1000       0  1000\n",
              "0     1  80    0  1000       0  1000\n",
              "0     2  80    2   998       0  1000\n",
              "0     3  80    2   998       0  1000\n",
              "0     4  80    4   996       0  1000\n",
              "..  ...  ..  ...   ...     ...   ...\n",
              "0   146  80  325    33     642  1000\n",
              "0   147  80  326    32     642  1000\n",
              "0   148  80  326    32     642  1000\n",
              "0   149  80  327    31     642  1000\n",
              "0   150  80  328    30     642  1000\n",
              "\n",
              "[151 rows x 6 columns]"
            ]
          },
          "metadata": {
            "tags": []
          },
          "execution_count": 157
        }
      ]
    },
    {
      "cell_type": "code",
      "metadata": {
        "id": "0mgp0SYFbeNv",
        "colab_type": "code",
        "outputId": "7bacfac8-cae9-4aa0-f911-9cc6f0beaadc",
        "colab": {
          "base_uri": "https://localhost:8080/",
          "height": 173
        }
      },
      "source": [
        "table.drop(columns=['P59','Total']).astype(float).corr(method='pearson')"
      ],
      "execution_count": 0,
      "outputs": [
        {
          "output_type": "execute_result",
          "data": {
            "text/html": [
              "<div>\n",
              "<style scoped>\n",
              "    .dataframe tbody tr th:only-of-type {\n",
              "        vertical-align: middle;\n",
              "    }\n",
              "\n",
              "    .dataframe tbody tr th {\n",
              "        vertical-align: top;\n",
              "    }\n",
              "\n",
              "    .dataframe thead th {\n",
              "        text-align: right;\n",
              "    }\n",
              "</style>\n",
              "<table border=\"1\" class=\"dataframe\">\n",
              "  <thead>\n",
              "    <tr style=\"text-align: right;\">\n",
              "      <th></th>\n",
              "      <th>P0</th>\n",
              "      <th>D59</th>\n",
              "      <th>D0</th>\n",
              "      <th>Neither</th>\n",
              "    </tr>\n",
              "  </thead>\n",
              "  <tbody>\n",
              "    <tr>\n",
              "      <th>P0</th>\n",
              "      <td>1.000000</td>\n",
              "      <td>0.985528</td>\n",
              "      <td>-0.972538</td>\n",
              "      <td>0.955890</td>\n",
              "    </tr>\n",
              "    <tr>\n",
              "      <th>D59</th>\n",
              "      <td>0.985528</td>\n",
              "      <td>1.000000</td>\n",
              "      <td>-0.984968</td>\n",
              "      <td>0.967204</td>\n",
              "    </tr>\n",
              "    <tr>\n",
              "      <th>D0</th>\n",
              "      <td>-0.972538</td>\n",
              "      <td>-0.984968</td>\n",
              "      <td>1.000000</td>\n",
              "      <td>-0.996540</td>\n",
              "    </tr>\n",
              "    <tr>\n",
              "      <th>Neither</th>\n",
              "      <td>0.955890</td>\n",
              "      <td>0.967204</td>\n",
              "      <td>-0.996540</td>\n",
              "      <td>1.000000</td>\n",
              "    </tr>\n",
              "  </tbody>\n",
              "</table>\n",
              "</div>"
            ],
            "text/plain": [
              "               P0       D59        D0   Neither\n",
              "P0       1.000000  0.985528 -0.972538  0.955890\n",
              "D59      0.985528  1.000000 -0.984968  0.967204\n",
              "D0      -0.972538 -0.984968  1.000000 -0.996540\n",
              "Neither  0.955890  0.967204 -0.996540  1.000000"
            ]
          },
          "metadata": {
            "tags": []
          },
          "execution_count": 158
        }
      ]
    },
    {
      "cell_type": "code",
      "metadata": {
        "id": "-mGszOcWbs8O",
        "colab_type": "code",
        "outputId": "2f808915-2e42-41e5-e934-f8e03a2a23b0",
        "colab": {
          "base_uri": "https://localhost:8080/",
          "height": 80
        }
      },
      "source": [
        "# Revenue Optimization Discrete\n",
        "p0 = list(range(0,151))\n",
        "p59 = list(range(0,151))\n",
        "table = pd.DataFrame(columns = ['P0','P59','5-9','Not5-9','Neither','Total', 'Rev59','RevNot59','Total Rev'])\n",
        "for price59 in p59:\n",
        "  # ________Demand Calculation________\n",
        "  # Create Max Wtp not 5-9\n",
        "  data = file1.copy()\n",
        "  data['Max wtp not5-9'] = data.drop(columns=['5pm_9pm','Client','Type']).max(axis=1)\n",
        "  # Prices which are updated on each loop iteration\n",
        "  data['P0'] = 65\n",
        "  data['P59'] = price59\n",
        "  # Create Max(netUtil N59,0)\n",
        "  data['NetUtil Not59'] = data['Max wtp not5-9'] - data['P0']\n",
        "  data['Max(netUtil N59,0)'] = data['Max wtp not5-9'] - data['P0']\n",
        "  data.loc[data['Max(netUtil N59,0)'] < 0, 'Max(netUtil N59,0)'] = 0\n",
        "  # Create Choice Column (Assumption to choose 5-9 if utilities are tied, & choose to buy if utility is 0)\n",
        "  data.loc[(data['5pm_9pm'] - data['P59']) >= data['Max(netUtil N59,0)'], 'Choice'] = '5-9'\n",
        "  data.loc[((data['5pm_9pm'] - data['P59']) < data['Max(netUtil N59,0)']) &\n",
        "            (data['NetUtil Not59'] >= 0), 'Choice'] = 'Not5-9'\n",
        "  data.loc[data['Choice'].isna() == True, 'Choice'] = 'Neither'\n",
        "  # Count choice types\n",
        "  temp = data['Choice'].value_counts().to_frame().transpose().reset_index(drop=True)\n",
        "  temp[['P0','P59']] = data[['P0','P59']]\n",
        "  if 'Neither' not in temp.columns:\n",
        "    temp['Neither'] = 0\n",
        "  if '5-9' not in temp.columns:\n",
        "    temp['5-9'] = 0\n",
        "  if 'Not5-9' not in temp.columns:\n",
        "    temp['Not5-9'] = 0\n",
        "  temp = temp[['P0','P59','5-9','Not5-9','Neither']]\n",
        "  temp['Total'] = temp['5-9']+temp['Not5-9']+temp['Neither']\n",
        "  temp['Rev59'] = temp['5-9']*price59\n",
        "  temp['RevNot59'] = temp['Not5-9']*65\n",
        "  temp['Total Rev'] = temp['Rev59'] + temp['RevNot59']\n",
        "  table = table.append(temp)\n",
        "table = table.rename(columns={'5-9':'D59', 'Not5-9':'D0'})\n",
        "opt = table.loc[table['Total Rev'] == table['Total Rev'].max(axis=0)]\n",
        "opt"
      ],
      "execution_count": 0,
      "outputs": [
        {
          "output_type": "execute_result",
          "data": {
            "text/html": [
              "<div>\n",
              "<style scoped>\n",
              "    .dataframe tbody tr th:only-of-type {\n",
              "        vertical-align: middle;\n",
              "    }\n",
              "\n",
              "    .dataframe tbody tr th {\n",
              "        vertical-align: top;\n",
              "    }\n",
              "\n",
              "    .dataframe thead th {\n",
              "        text-align: right;\n",
              "    }\n",
              "</style>\n",
              "<table border=\"1\" class=\"dataframe\">\n",
              "  <thead>\n",
              "    <tr style=\"text-align: right;\">\n",
              "      <th></th>\n",
              "      <th>P0</th>\n",
              "      <th>P59</th>\n",
              "      <th>D59</th>\n",
              "      <th>D0</th>\n",
              "      <th>Neither</th>\n",
              "      <th>Total</th>\n",
              "      <th>Rev59</th>\n",
              "      <th>RevNot59</th>\n",
              "      <th>Total Rev</th>\n",
              "    </tr>\n",
              "  </thead>\n",
              "  <tbody>\n",
              "    <tr>\n",
              "      <th>0</th>\n",
              "      <td>65</td>\n",
              "      <td>83</td>\n",
              "      <td>123</td>\n",
              "      <td>801</td>\n",
              "      <td>76</td>\n",
              "      <td>1000</td>\n",
              "      <td>10209</td>\n",
              "      <td>52065</td>\n",
              "      <td>62274</td>\n",
              "    </tr>\n",
              "  </tbody>\n",
              "</table>\n",
              "</div>"
            ],
            "text/plain": [
              "   P0 P59  D59   D0 Neither Total  Rev59 RevNot59 Total Rev\n",
              "0  65  83  123  801      76  1000  10209    52065     62274"
            ]
          },
          "metadata": {
            "tags": []
          },
          "execution_count": 20
        }
      ]
    },
    {
      "cell_type": "code",
      "metadata": {
        "id": "Dd8ZrwdBTdTw",
        "colab_type": "code",
        "outputId": "d1a2d329-51ac-4572-d59c-55144dee8e63",
        "colab": {
          "base_uri": "https://localhost:8080/",
          "height": 34
        }
      },
      "source": [
        "# 1D Revenue Optimization Continuous (p0 fixed to $65)\n",
        "price0 = 65\n",
        "from scipy import optimize\n",
        "def f(price59):\n",
        "    return -1*((413.7949 + 3*price0 - 5.0593*price59)*price59 + price0*(914.7323 - 7.6602*price0 + 2.5241*price59))\n",
        "result = optimize.minimize_scalar(f)\n",
        "print(\"p59: $\"+str(round(result.x,2)))"
      ],
      "execution_count": 103,
      "outputs": [
        {
          "output_type": "stream",
          "text": [
            "p59: $76.38\n"
          ],
          "name": "stdout"
        }
      ]
    },
    {
      "cell_type": "code",
      "metadata": {
        "id": "fZI8X34w0XnY",
        "colab_type": "code",
        "colab": {
          "base_uri": "https://localhost:8080/",
          "height": 68
        },
        "outputId": "b3b3628f-52e7-4334-8634-ec5593a493a6"
      },
      "source": [
        "# 2D Revenue Optimization Continuous\n",
        "import scipy.optimize as optimize\n",
        "\n",
        "def f(params):\n",
        "    # print(params)  # <-- you'll see that params is a NumPy array\n",
        "    price0, price59 = params # <-- for readability you may wish to assign names to the component variables\n",
        "    return -1*((413.7949 + 3*price0 - 5.0593*price59)*price59 + price0*(914.7323 - 7.6602*price0 + 2.5241*price59))\n",
        "\n",
        "initial_guess = [0, 0]\n",
        "result = optimize.minimize(f, initial_guess)\n",
        "if result.success:\n",
        "    fitted_params = result.x\n",
        "    print('p0: $'+str(round(fitted_params[0],2)))\n",
        "    print('p59: $'+str(round(fitted_params[1],2)))\n",
        "    print ('Optimal Revenue: $'+str(round((413.7949 + 3*fitted_params[0] - 5.0593*fitted_params[1])*fitted_params[1]\n",
        "                                  + fitted_params[0]*(914.7323 - 7.6602*fitted_params[0] + 2.5241*fitted_params[1]),2)))\n",
        "else:\n",
        "    raise ValueError(result.message)"
      ],
      "execution_count": 98,
      "outputs": [
        {
          "output_type": "stream",
          "text": [
            "p0: $92.7\n",
            "p59: $91.5\n",
            "Optimal Revenue: $61329.57\n"
          ],
          "name": "stdout"
        }
      ]
    },
    {
      "cell_type": "code",
      "metadata": {
        "id": "LOYRZIUyCKev",
        "colab_type": "code",
        "colab": {}
      },
      "source": [
        ""
      ],
      "execution_count": 0,
      "outputs": []
    }
  ]
}
